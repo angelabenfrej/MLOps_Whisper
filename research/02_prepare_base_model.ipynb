{
 "cells": [
  {
   "cell_type": "code",
   "execution_count": 1,
   "metadata": {},
   "outputs": [],
   "source": [
    "import os "
   ]
  },
  {
   "cell_type": "code",
   "execution_count": 2,
   "metadata": {},
   "outputs": [],
   "source": [
    "os.chdir(\"../\")"
   ]
  },
  {
   "cell_type": "code",
   "execution_count": 3,
   "metadata": {},
   "outputs": [
    {
     "data": {
      "text/plain": [
       "'c:\\\\Users\\\\ASUS\\\\Desktop\\\\MLOps_Whisper'"
      ]
     },
     "execution_count": 3,
     "metadata": {},
     "output_type": "execute_result"
    }
   ],
   "source": [
    "%pwd"
   ]
  },
  {
   "cell_type": "code",
   "execution_count": 47,
   "metadata": {},
   "outputs": [],
   "source": [
    "from dataclasses import dataclass\n",
    "from pathlib import Path\n",
    "from transformers import WhisperForConditionalGeneration, WhisperProcessor\n",
    "\n",
    "\n",
    "@dataclass(frozen=True)\n",
    "class PrepareBaseModelConfig:\n",
    "    root_dir: Path\n",
    "    base_model_path: Path\n",
    "    updated_base_model_path: Path\n",
    "    gradient_accumulation_steps: int\n",
    "    learning_rate: float\n",
    "    warmup_steps: int \n",
    "    max_steps: int\n",
    "    gradient_checkpointing: bool\n",
    "    fp16: bool\n",
    "    per_device_eval_batch_size: int\n",
    "    predict_with_generate: bool\n",
    "    generation_max_length: int\n",
    "    save_steps: int\n",
    "    eval_steps: int"
   ]
  },
  {
   "cell_type": "code",
   "execution_count": 48,
   "metadata": {},
   "outputs": [],
   "source": [
    "from src.whisper.constants import *\n",
    "from src.whisper.utils.common import read_yaml, create_directories"
   ]
  },
  {
   "cell_type": "code",
   "execution_count": 49,
   "metadata": {},
   "outputs": [],
   "source": [
    "class ConfigurationManager:\n",
    "    def __init__(\n",
    "        self,\n",
    "        config_filepath = CONFIG_FILE_PATH,\n",
    "        params_filepath = PARAMS_FILE_PATH):\n",
    "\n",
    "        self.config = read_yaml(config_filepath)\n",
    "        self.params = read_yaml(params_filepath)\n",
    "\n",
    "        create_directories([self.config.artifacts_root])\n",
    "\n",
    "\n",
    "    def get_prepare_base_model_config(self) -> PrepareBaseModelConfig:\n",
    "        config = self.config.prepare_base_model\n",
    "        self.model_name = \"openai/whisper-small\"\n",
    "        \n",
    "        create_directories([config.root_dir])\n",
    "\n",
    "        prepare_base_model_config = PrepareBaseModelConfig(\n",
    "            root_dir=Path(config.root_dir),\n",
    "            base_model_path=Path(config.base_model_path),\n",
    "            updated_base_model_path=Path(config.updated_base_model_path),\n",
    "            gradient_accumulation_steps=self.params.gradient_accumulation_steps,\n",
    "            learning_rate=self.params.learning_rate,\n",
    "            warmup_steps=self.params.warmup_steps,\n",
    "            max_steps=self.params.max_steps,\n",
    "            gradient_checkpointing=self.params.gradient_checkpointing,\n",
    "            fp16= self.params.fp16,\n",
    "            per_device_eval_batch_size= self.params.per_device_eval_batch_size,\n",
    "            predict_with_generate=self.params.predict_with_generate,\n",
    "            generation_max_length=self.params.generation_max_length,\n",
    "            save_steps=self.params.save_steps,\n",
    "            eval_steps=self.params.save_steps\n",
    "            \n",
    "        )\n",
    "\n",
    "        return prepare_base_model_config"
   ]
  },
  {
   "cell_type": "code",
   "execution_count": 50,
   "metadata": {},
   "outputs": [],
   "source": [
    "import torch\n",
    "from transformers import WhisperForConditionalGeneration"
   ]
  },
  {
   "cell_type": "code",
   "execution_count": 53,
   "metadata": {},
   "outputs": [],
   "source": [
    "class PrepareBaseModel:\n",
    "    def __init__(self, config: PrepareBaseModelConfig):\n",
    "        self.config = config\n",
    "    \n",
    "    def get_base_model(self):\n",
    "        self.model = WhisperForConditionalGeneration.from_pretrained(\"openai/whisper-small\")\n",
    "        self.processor = WhisperProcessor.from_pretrained(\"openai/whisper-small\")\n",
    "        self.save_model(self.config.base_model_path, self.model)\n",
    "\n",
    "    def save_model(self, path: Path, model):\n",
    "        model.save_pretrained(path)\n",
    "        print(f\"Model saved to {path}\")\n",
    "\n",
    "    def _prepare_full_model(self, model, processor, **kwargs):\n",
    "        \n",
    "        return model, processor\n",
    "    \n",
    "\n",
    "    def update_base_model(self):\n",
    "        # This method would be used to update the base model if needed\n",
    "        self.full_model, self.processor = self._prepare_full_model(\n",
    "            model=self.model,\n",
    "            processor=self.processor,\n",
    "            learning_rate=self.config.learning_rate,\n",
    "            gradient_accumulation_steps=self.config.gradient_accumulation_steps,\n",
    "            warmup_steps=self.config.warmup_steps,\n",
    "            max_steps=self.config.max_steps,\n",
    "            gradient_checkpointing=self.config.gradient_checkpointing,\n",
    "            fp16=self.config.fp16,\n",
    "            per_device_eval_batch_size=self.config.per_device_eval_batch_size,\n",
    "            predict_with_generate=self.config.predict_with_generate,\n",
    "            generation_max_length=self.config.generation_max_length,\n",
    "            save_steps=self.config.save_steps,\n",
    "            eval_steps=self.config.eval_steps\n",
    "        )\n",
    "        self.save_model(self.config.updated_base_model_path, self.full_model)\n",
    "\n",
    "    @staticmethod\n",
    "    def save_model(path: str, model):\n",
    "        model.save_pretrained(path)\n",
    "        print(f\"Model saved to {path}\")\n",
    "\n"
   ]
  },
  {
   "cell_type": "code",
   "execution_count": null,
   "metadata": {},
   "outputs": [],
   "source": [
    "try:\n",
    "    config = ConfigurationManager()\n",
    "    prepare_base_model_config = config.get_prepare_base_model_config()\n",
    "    prepare_base_model = PrepareBaseModel(config=prepare_base_model_config)\n",
    "    prepare_base_model.get_base_model()\n",
    "    prepare_base_model.update_base_model()\n",
    "except Exception as e:\n",
    "    raise e"
   ]
  }
 ],
 "metadata": {
  "kernelspec": {
   "display_name": "Python 3",
   "language": "python",
   "name": "python3"
  },
  "language_info": {
   "codemirror_mode": {
    "name": "ipython",
    "version": 3
   },
   "file_extension": ".py",
   "mimetype": "text/x-python",
   "name": "python",
   "nbconvert_exporter": "python",
   "pygments_lexer": "ipython3",
   "version": "3.10.10"
  }
 },
 "nbformat": 4,
 "nbformat_minor": 2
}
