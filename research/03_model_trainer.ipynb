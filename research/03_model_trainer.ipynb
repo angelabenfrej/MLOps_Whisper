{
 "cells": [
  {
   "cell_type": "code",
   "execution_count": 3,
   "metadata": {},
   "outputs": [],
   "source": [
    "import os "
   ]
  },
  {
   "cell_type": "code",
   "execution_count": 4,
   "metadata": {},
   "outputs": [],
   "source": [
    "os.chdir(\"../\")"
   ]
  },
  {
   "cell_type": "code",
   "execution_count": 5,
   "metadata": {},
   "outputs": [
    {
     "data": {
      "text/plain": [
       "'c:\\\\Users\\\\ASUS\\\\Desktop\\\\MLOps_Whisper'"
      ]
     },
     "execution_count": 5,
     "metadata": {},
     "output_type": "execute_result"
    }
   ],
   "source": [
    "%pwd"
   ]
  },
  {
   "cell_type": "code",
   "execution_count": 6,
   "metadata": {},
   "outputs": [],
   "source": [
    "from dataclasses import dataclass\n",
    "from pathlib import Path\n",
    "\n",
    "\n",
    "@dataclass(frozen=True)\n",
    "class TrainingConfig:\n",
    "    root_dir: Path\n",
    "    trained_model_path: Path\n",
    "    updated_base_model_path: Path\n",
    "    training_data: Path\n"
   ]
  },
  {
   "cell_type": "code",
   "execution_count": 7,
   "metadata": {},
   "outputs": [
    {
     "name": "stderr",
     "output_type": "stream",
     "text": [
      "c:\\Users\\ASUS\\miniconda3\\envs\\whisper_Mlops\\lib\\site-packages\\tqdm\\auto.py:21: TqdmWarning: IProgress not found. Please update jupyter and ipywidgets. See https://ipywidgets.readthedocs.io/en/stable/user_install.html\n",
      "  from .autonotebook import tqdm as notebook_tqdm\n"
     ]
    },
    {
     "name": "stdout",
     "output_type": "stream",
     "text": [
      "[2024-07-18 22:03:46,921: WARNING: module_wrapper: From c:\\Users\\ASUS\\miniconda3\\envs\\whisper_Mlops\\lib\\site-packages\\tf_keras\\src\\losses.py:2976: The name tf.losses.sparse_softmax_cross_entropy is deprecated. Please use tf.compat.v1.losses.sparse_softmax_cross_entropy instead.\n",
      "]\n",
      "[2024-07-18 22:03:47,911: INFO: config: PyTorch version 2.3.1 available.]\n",
      "[2024-07-18 22:03:47,911: INFO: config: TensorFlow version 2.17.0 available.]\n"
     ]
    }
   ],
   "source": [
    "from src.whisper.constants import *\n",
    "from src.whisper.utils.common import read_yaml, create_directories\n",
    "import torch\n",
    "from transformers import Trainer, TrainingArguments, WhisperForConditionalGeneration, WhisperProcessor\n",
    "from datasets import Dataset , Audio"
   ]
  },
  {
   "cell_type": "code",
   "execution_count": 8,
   "metadata": {},
   "outputs": [],
   "source": [
    "class ConfigurationManager:\n",
    "    def __init__(\n",
    "        self,\n",
    "        config_filepath = CONFIG_FILE_PATH,\n",
    "        params_filepath = PARAMS_FILE_PATH\n",
    "    ):\n",
    "        self.config = read_yaml(config_filepath)\n",
    "        self.params = read_yaml(params_filepath)\n",
    "        create_directories([self.config.artifacts_root])\n",
    "\n",
    "    def get_training_config(self) -> TrainingConfig:\n",
    "        training = self.config.training\n",
    "        prepare_base_model = self.config.prepare_base_model\n",
    "        create_directories([Path(training.root_dir)])\n",
    "\n",
    "        training_config = TrainingConfig(\n",
    "            root_dir=Path(training.root_dir),\n",
    "            trained_model_path=Path(training.trained_model_path),\n",
    "            updated_base_model_path=Path(prepare_base_model.updated_base_model_path),\n",
    "            training_data=Path(self.config.data_ingestion.unzip_dir),\n",
    "        )\n",
    "\n",
    "        return training_config\n"
   ]
  },
  {
   "cell_type": "code",
   "execution_count": 9,
   "metadata": {},
   "outputs": [],
   "source": [
    "import os\n",
    "from pydub import AudioSegment\n"
   ]
  },
  {
   "cell_type": "code",
   "execution_count": 18,
   "metadata": {},
   "outputs": [],
   "source": [
    "from dataclasses import dataclass\n",
    "from typing import Any, Dict, List, Union\n",
    "from transformers import WhisperForConditionalGeneration, WhisperProcessor, WhisperTokenizer, WhisperFeatureExtractor, Trainer, TrainingArguments\n",
    "\n",
    "\n",
    "class Training:\n",
    "    def __init__(self, config: TrainingConfig):\n",
    "        self.config = config\n",
    "        self.processor = WhisperProcessor.from_pretrained(\"openai/whisper-small\" ,language=\"en\", task=\"transcribe\" )\n",
    "        self.tokenizer = WhisperTokenizer.from_pretrained(\"openai/whisper-small\", language=\"en\", task=\"transcribe\")\n",
    "        self.feature_extractor = WhisperFeatureExtractor.from_pretrained(\"openai/whisper-small\")\n",
    "    def get_model(self):\n",
    "        self.model = WhisperForConditionalGeneration.from_pretrained(self.config.updated_base_model_path)\n",
    "\n",
    "    def load_data(self):\n",
    "        import pandas as pd\n",
    "        import numpy as np \n",
    "        import torchaudio\n",
    "        # Load the dataset\n",
    "        audio_folder = os.path.join(self.config.training_data, \"Data_Whisper/en/Clips1\")\n",
    "        tsv_file = os.path.join(self.config.training_data, \"Data_Whisper/en/validated1.tsv\")\n",
    "        data = pd.read_csv(tsv_file, sep='\\t')\n",
    "        \n",
    "        # Limit to the first 10 entries\n",
    "        data = data[:10]\n",
    "        \n",
    "        # Load and transform audio\n",
    "        def load_and_transform_audio(path):\n",
    "            try:\n",
    "                file_path = os.path.join(audio_folder, str(path))\n",
    "                print(f\"Processing file: {file_path}\")  \n",
    "                waveform, sampling_rate = torchaudio.load(file_path)\n",
    "                audio_array = waveform.numpy().astype(np.float32)\n",
    "                audio_entry = {\n",
    "                    'path': path,\n",
    "                    'array': audio_array.flatten(),\n",
    "                    'sampling_rate': 16000,\n",
    "                }\n",
    "                return audio_entry\n",
    "            except Exception as e:\n",
    "                print(f\"Error processing audio file {path}: {str(e)}\")\n",
    "                return None\n",
    "\n",
    "        data['audio'] = data['path'].apply(load_and_transform_audio)\n",
    "        data = data.dropna(subset=['audio'])\n",
    "        columns_to_remove = ['client_id', 'path', 'sentence_id', 'sentence_domain', 'up_votes', 'down_votes', 'age', 'gender', 'accents', 'variant', 'locale', 'segment']\n",
    "        data = data.drop(columns=columns_to_remove)\n",
    "\n",
    "        #Create Dataset object\n",
    "        dataset = Dataset.from_pandas(data)     \n",
    "        dataset = dataset.cast_column(\"audio\", Audio(sampling_rate=16000))\n",
    "        \n",
    "        # Prepare the dataset\n",
    "        def prepare_dataset(batch):\n",
    "           # load and resample audio data from 48 to 16kHz\n",
    "            audio = batch[\"audio\"]\n",
    "\n",
    "            # compute log-Mel input features from input audio array\n",
    "            batch[\"input_features\"] = self.feature_extractor(audio[\"array\"], sampling_rate=audio[\"sampling_rate\"]).input_features[0]\n",
    "\n",
    "            # encode target text to label ids\n",
    "            batch[\"labels\"] = self.tokenizer(batch[\"sentence\"], padding=True).input_ids\n",
    "            return batch\n",
    "\n",
    "        dataset = dataset.map(prepare_dataset, remove_columns=dataset.column_names)\n",
    "\n",
    "        self.train_dataset = dataset.train_test_split(test_size=0.2)[\"train\"]\n",
    "        self.eval_dataset = dataset.train_test_split(test_size=0.2)[\"test\"]\n",
    "\n",
    "    def train(self):\n",
    "        training_args = TrainingArguments(\n",
    "            output_dir=self.config.root_dir,\n",
    "            per_device_train_batch_size=16,\n",
    "            gradient_accumulation_steps=1,  # increase by 2x for every 2x decrease in batch size\n",
    "            learning_rate=1e-5,\n",
    "            warmup_steps=500,\n",
    "            max_steps=1,\n",
    "            gradient_checkpointing=True,\n",
    "            fp16=True,\n",
    "            evaluation_strategy=\"steps\",\n",
    "            per_device_eval_batch_size=8,\n",
    "            save_steps=1000,\n",
    "            eval_steps=1000,\n",
    "            logging_steps=25,\n",
    "            report_to=[\"tensorboard\"],\n",
    "            load_best_model_at_end=True,\n",
    "            metric_for_best_model=\"wer\",\n",
    "        )\n",
    "\n",
    "        @dataclass\n",
    "        class DataCollatorSpeechSeq2SeqWithPadding:\n",
    "            processor: Any\n",
    "            decoder_start_token_id: int\n",
    "\n",
    "            def __call__(self, features: List[Dict[str, Union[List[int], torch.Tensor]]]) -> Dict[str, torch.Tensor]:\n",
    "                # split inputs and labels since they have to be of different lengths and need different padding methods\n",
    "                # first treat the audio inputs by simply returning torch tensors\n",
    "                input_features = [{\"input_features\": feature[\"input_features\"]} for feature in features]\n",
    "                batch = self.processor.feature_extractor.pad(input_features, return_tensors=\"pt\")\n",
    "\n",
    "                 # get the tokenized label sequences\n",
    "                label_features = [{\"input_ids\": feature[\"labels\"]} for feature in features]\n",
    "                # pad the labels to max length\n",
    "                labels_batch = self.processor.tokenizer.pad(label_features, return_tensors=\"pt\")\n",
    "\n",
    "                # replace padding with -100 to ignore loss correctly\n",
    "                labels = labels_batch[\"input_ids\"].masked_fill(labels_batch.attention_mask.ne(1), -100)\n",
    "\n",
    "                # if bos token is appended in previous tokenization step,\n",
    "                # cut bos token here as it's append later anyways\n",
    "                if (labels[:, 0] == self.decoder_start_token_id).all().cpu().item():\n",
    "                    labels = labels[:, 1:]\n",
    "\n",
    "                batch[\"labels\"] = labels\n",
    "\n",
    "                return batch\n",
    "\n",
    "\n",
    "        data_collator = DataCollatorSpeechSeq2SeqWithPadding(\n",
    "            processor=self.processor,\n",
    "            decoder_start_token_id=self.model.config.decoder_start_token_id,\n",
    "        )\n",
    "        trainer = Trainer(\n",
    "            model=self.model,\n",
    "            args=training_args,\n",
    "            train_dataset=self.train_dataset,\n",
    "            eval_dataset=self.eval_dataset,\n",
    "            tokenizer=self.tokenizer,\n",
    "            data_collator=data_collator\n",
    "            \n",
    "        )\n",
    "\n",
    "        trainer.train()\n",
    "        self.model.save_pretrained(self.config.trained_model_path)"
   ]
  },
  {
   "cell_type": "code",
   "execution_count": 19,
   "metadata": {},
   "outputs": [
    {
     "name": "stdout",
     "output_type": "stream",
     "text": [
      "[2024-07-18 22:23:25,718: INFO: common: yaml file: config\\config.yaml loaded successfully]\n",
      "[2024-07-18 22:23:25,734: INFO: common: yaml file: params.yaml loaded successfully]\n",
      "[2024-07-18 22:23:25,740: INFO: common: created directory at: artifacts]\n",
      "[2024-07-18 22:23:25,742: INFO: common: created directory at: artifacts\\training]\n"
     ]
    },
    {
     "name": "stderr",
     "output_type": "stream",
     "text": [
      "Special tokens have been added in the vocabulary, make sure the associated word embeddings are fine-tuned or trained.\n",
      "Special tokens have been added in the vocabulary, make sure the associated word embeddings are fine-tuned or trained.\n"
     ]
    },
    {
     "name": "stdout",
     "output_type": "stream",
     "text": [
      "Processing file: artifacts\\data_ingestion\\Data_Whisper/en/Clips1\\common_voice_en_39751075.mp3\n",
      "Processing file: artifacts\\data_ingestion\\Data_Whisper/en/Clips1\\common_voice_en_39589864.mp3\n",
      "Processing file: artifacts\\data_ingestion\\Data_Whisper/en/Clips1\\common_voice_en_40087973.mp3\n",
      "Processing file: artifacts\\data_ingestion\\Data_Whisper/en/Clips1\\common_voice_en_39587246.mp3\n",
      "Processing file: artifacts\\data_ingestion\\Data_Whisper/en/Clips1\\common_voice_en_40117514.mp3\n",
      "Processing file: artifacts\\data_ingestion\\Data_Whisper/en/Clips1\\common_voice_en_39603786.mp3\n",
      "Processing file: artifacts\\data_ingestion\\Data_Whisper/en/Clips1\\common_voice_en_39603175.mp3\n",
      "Processing file: artifacts\\data_ingestion\\Data_Whisper/en/Clips1\\common_voice_en_39694056.mp3\n",
      "Processing file: artifacts\\data_ingestion\\Data_Whisper/en/Clips1\\common_voice_en_40048623.mp3\n",
      "Processing file: artifacts\\data_ingestion\\Data_Whisper/en/Clips1\\common_voice_en_39644687.mp3\n"
     ]
    },
    {
     "name": "stderr",
     "output_type": "stream",
     "text": [
      "\n",
      "\u001b[A\n",
      "\u001b[A\n",
      "Map: 100%|██████████| 10/10 [00:00<00:00, 17.44 examples/s]\n",
      "c:\\Users\\ASUS\\miniconda3\\envs\\whisper_Mlops\\lib\\site-packages\\transformers\\training_args.py:1494: FutureWarning: `evaluation_strategy` is deprecated and will be removed in version 4.46 of 🤗 Transformers. Use `eval_strategy` instead\n",
      "  warnings.warn(\n",
      "max_steps is given, it will override any value given in num_train_epochs\n",
      "  0%|          | 0/1 [04:01<?, ?it/s]\n",
      "  0%|          | 0/1 [00:00<?, ?it/s]c:\\Users\\ASUS\\miniconda3\\envs\\whisper_Mlops\\lib\\site-packages\\torch\\utils\\checkpoint.py:464: UserWarning: torch.utils.checkpoint: the use_reentrant parameter should be passed explicitly. In version 2.4 we will raise an exception if use_reentrant is not passed. use_reentrant=False is recommended, but if you need to preserve the current default behavior, you can pass use_reentrant=True. Refer to docs for more details on the differences between the two variants.\n",
      "  warnings.warn(\n",
      "100%|██████████| 1/1 [03:38<00:00, 218.35s/it]Some non-default generation parameters are set in the model config. These should go into a GenerationConfig file (https://huggingface.co/docs/transformers/generation_strategies#save-a-custom-decoding-strategy-with-your-model) instead. This warning will be raised to an exception in v4.41.\n",
      "Non-default generation parameters: {'max_length': 448, 'suppress_tokens': [1, 2, 7, 8, 9, 10, 14, 25, 26, 27, 28, 29, 31, 58, 59, 60, 61, 62, 63, 90, 91, 92, 93, 359, 503, 522, 542, 873, 893, 902, 918, 922, 931, 1350, 1853, 1982, 2460, 2627, 3246, 3253, 3268, 3536, 3846, 3961, 4183, 4667, 6585, 6647, 7273, 9061, 9383, 10428, 10929, 11938, 12033, 12331, 12562, 13793, 14157, 14635, 15265, 15618, 16553, 16604, 18362, 18956, 20075, 21675, 22520, 26130, 26161, 26435, 28279, 29464, 31650, 32302, 32470, 36865, 42863, 47425, 49870, 50254, 50258, 50360, 50361, 50362], 'begin_suppress_tokens': [220, 50257]}\n",
      "                                              \n",
      "100%|██████████| 1/1 [05:02<00:00, 302.67s/it]\n",
      "Some non-default generation parameters are set in the model config. These should go into a GenerationConfig file (https://huggingface.co/docs/transformers/generation_strategies#save-a-custom-decoding-strategy-with-your-model) instead. This warning will be raised to an exception in v4.41.\n",
      "Non-default generation parameters: {'max_length': 448, 'suppress_tokens': [1, 2, 7, 8, 9, 10, 14, 25, 26, 27, 28, 29, 31, 58, 59, 60, 61, 62, 63, 90, 91, 92, 93, 359, 503, 522, 542, 873, 893, 902, 918, 922, 931, 1350, 1853, 1982, 2460, 2627, 3246, 3253, 3268, 3536, 3846, 3961, 4183, 4667, 6585, 6647, 7273, 9061, 9383, 10428, 10929, 11938, 12033, 12331, 12562, 13793, 14157, 14635, 15265, 15618, 16553, 16604, 18362, 18956, 20075, 21675, 22520, 26130, 26161, 26435, 28279, 29464, 31650, 32302, 32470, 36865, 42863, 47425, 49870, 50254, 50258, 50360, 50361, 50362], 'begin_suppress_tokens': [220, 50257]}\n"
     ]
    },
    {
     "name": "stdout",
     "output_type": "stream",
     "text": [
      "{'train_runtime': 302.8348, 'train_samples_per_second': 0.053, 'train_steps_per_second': 0.003, 'train_loss': 2.398606538772583, 'epoch': 1.0}\n"
     ]
    }
   ],
   "source": [
    "try:\n",
    "    config = ConfigurationManager()\n",
    "    training_config = config.get_training_config()\n",
    "    training = Training(config=training_config)\n",
    "    training.get_model()\n",
    "    training.load_data()\n",
    "    training.train()\n",
    "\n",
    "except Exception as e:\n",
    "    raise e"
   ]
  }
 ],
 "metadata": {
  "kernelspec": {
   "display_name": "Python 3",
   "language": "python",
   "name": "python3"
  },
  "language_info": {
   "codemirror_mode": {
    "name": "ipython",
    "version": 3
   },
   "file_extension": ".py",
   "mimetype": "text/x-python",
   "name": "python",
   "nbconvert_exporter": "python",
   "pygments_lexer": "ipython3",
   "version": "3.10.10"
  }
 },
 "nbformat": 4,
 "nbformat_minor": 2
}
